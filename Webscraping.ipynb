{
 "cells": [
  {
   "cell_type": "code",
   "execution_count": 20,
   "metadata": {},
   "outputs": [],
   "source": [
    "url_list = 'https://blacklivesmatter.com/demand-racial-data-on-coronavirus/'\n",
    "\n",
    "first = 'Nada'\n",
    "last = 'Ibrahim'\n",
    "city = 'Jersey City'\n",
    "state = 'New Jersey'\n",
    "zipcode = '07307'\n",
    "email = 'nadaibrahim96@gmail.com'"
   ]
  },
  {
   "cell_type": "code",
   "execution_count": 44,
   "metadata": {},
   "outputs": [],
   "source": [
    "import requests\n",
    "import json\n",
    "import re\n",
    "from bs4 import BeautifulSoup\n",
    "from pprint import pprint\n",
    "import pandas as pd\n",
    "import numpy as np\n",
    "\n",
    "from selenium import webdriver\n",
    "from splinter import Browser\n",
    "from selenium.webdriver.common.keys import Keys\n",
    "\n",
    "import time\n",
    "from selenium.webdriver.support.ui import WebDriverWait\n",
    "from selenium.common.exceptions import TimeoutException\n",
    "\n",
    "import mechanize"
   ]
  },
  {
   "cell_type": "code",
   "execution_count": 53,
   "metadata": {},
   "outputs": [
    {
     "name": "stdout",
     "output_type": "stream",
     "text": [
      "None None None\n"
     ]
    }
   ],
   "source": [
    "executable_path = {'executable_path': '/usr/local/bin/chromedriver'}\n",
    "browser = Browser('chrome', executable_path, headless=False)\n",
    "\n",
    "browser.visit(url_list)\n",
    "\n",
    "timeout = 5\n",
    "try:\n",
    "    myElem = WebDriverWait(browser, timeout)\n",
    "except TimeoutException:\n",
    "    print(\"Timed out waiting for page to load\")\n",
    "    \n",
    "html = browser.html \n",
    "soup = BeautifulSoup(html, 'html.parser')\n",
    "    \n",
    "first_name = soup.find('input', id='form-first_name')\n",
    "email = soup.find('input', id='form-email')\n",
    "zipcode = soup.find('input', id='form-zip_code')\n",
    "\n",
    "# first_name.send_keys(first)\n",
    "# email.send_keys(email)\n",
    "# zipcode.send_keys(zipcode)\n",
    "\n",
    "# zipcode.submit() \n",
    "\n",
    "print(first_name, email, zipcode)"
   ]
  },
  {
   "cell_type": "code",
   "execution_count": null,
   "metadata": {},
   "outputs": [],
   "source": []
  },
  {
   "cell_type": "code",
   "execution_count": null,
   "metadata": {},
   "outputs": [],
   "source": []
  },
  {
   "cell_type": "code",
   "execution_count": null,
   "metadata": {},
   "outputs": [],
   "source": []
  },
  {
   "cell_type": "code",
   "execution_count": null,
   "metadata": {},
   "outputs": [],
   "source": []
  },
  {
   "cell_type": "code",
   "execution_count": 9,
   "metadata": {},
   "outputs": [],
   "source": []
  },
  {
   "cell_type": "code",
   "execution_count": null,
   "metadata": {},
   "outputs": [],
   "source": [
    "# def petition(first, last, city, state, zipcode, email):\n",
    "#     for url in url_list:\n",
    "      \n",
    "        \n",
    "    "
   ]
  }
 ],
 "metadata": {
  "kernelspec": {
   "display_name": "Python 3",
   "language": "python",
   "name": "python3"
  },
  "language_info": {
   "codemirror_mode": {
    "name": "ipython",
    "version": 3
   },
   "file_extension": ".py",
   "mimetype": "text/x-python",
   "name": "python",
   "nbconvert_exporter": "python",
   "pygments_lexer": "ipython3",
   "version": "3.7.4"
  }
 },
 "nbformat": 4,
 "nbformat_minor": 2
}
