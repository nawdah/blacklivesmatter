{
 "cells": [
  {
   "cell_type": "code",
   "execution_count": 20,
   "metadata": {},
   "outputs": [],
   "source": [
    "url_list = 'https://blacklivesmatter.com/demand-racial-data-on-coronavirus/'\n",
    "\n",
    "first = 'Nada'\n",
    "last = 'Ibrahim'\n",
    "city = 'Jersey City'\n",
    "state = 'New Jersey'\n",
    "zipcode = '07307'\n",
    "email = 'nadaibrahim96@gmail.com'"
   ]
  },
  {
   "cell_type": "code",
   "execution_count": 27,
   "metadata": {},
   "outputs": [],
   "source": [
    "import requests\n",
    "import json\n",
    "import re\n",
    "from bs4 import BeautifulSoup\n",
    "from pprint import pprint\n",
    "import pandas as pd\n",
    "import numpy as np\n",
    "\n",
    "from selenium import webdriver\n",
    "from splinter import Browser\n",
    "from selenium.webdriver.common.keys import Keys\n",
    "\n",
    "import time\n",
    "from selenium.webdriver.support.ui import WebDriverWait\n",
    "from selenium.common.exceptions import TimeoutException\n",
    "\n",
    "import mechanize"
   ]
  },
  {
   "cell_type": "code",
   "execution_count": 42,
   "metadata": {},
   "outputs": [],
   "source": [
    "executable_path = {'executable_path': '/usr/local/bin/chromedriver'}\n",
    "browser = Browser('chrome', executable_path, headless=False)\n",
    "# driver = webdriver.Chrome(executable_path='/usr/local/bin/chromedriver')\n",
    "\n",
    "\n",
    "browser.visit(url_list)"
   ]
  },
  {
   "cell_type": "code",
   "execution_count": 43,
   "metadata": {},
   "outputs": [
    {
     "ename": "ModuleNotFoundError",
     "evalue": "No module named 'org'",
     "output_type": "error",
     "traceback": [
      "\u001b[1;31m---------------------------------------------------------------------------\u001b[0m",
      "\u001b[1;31mModuleNotFoundError\u001b[0m                       Traceback (most recent call last)",
      "\u001b[1;32m<ipython-input-43-411957eaec78>\u001b[0m in \u001b[0;36m<module>\u001b[1;34m\u001b[0m\n\u001b[1;32m----> 1\u001b[1;33m \u001b[1;32mimport\u001b[0m \u001b[0morg\u001b[0m\u001b[1;33m.\u001b[0m\u001b[0mopenqa\u001b[0m\u001b[1;33m.\u001b[0m\u001b[0mselenium\u001b[0m\u001b[1;33m.\u001b[0m\u001b[0mWebElement\u001b[0m\u001b[1;33m\u001b[0m\u001b[1;33m\u001b[0m\u001b[0m\n\u001b[0m",
      "\u001b[1;31mModuleNotFoundError\u001b[0m: No module named 'org'"
     ]
    }
   ],
   "source": [
    "# import org.openqa.selenium.WebElement\n"
   ]
  },
  {
   "cell_type": "code",
   "execution_count": 21,
   "metadata": {},
   "outputs": [],
   "source": [
    "# import mechanize\n",
    "# try:\n",
    "#     import cookielib         \n",
    "# except ImportError:\n",
    "#     from http import cookiejar as cookielib\n",
    "\n",
    "\n",
    "# # Browser\n",
    "# br = mechanize.Browser()\n",
    "\n",
    "# # Cookie Jar\n",
    "# cj = cookielib.LWPCookieJar()\n",
    "# br.set_cookiejar(cj)\n",
    "\n",
    "# # Browser options\n",
    "# br.set_handle_equiv(True)\n",
    "# br.set_handle_gzip(True)\n",
    "# br.set_handle_redirect(True)\n",
    "# br.set_handle_referer(True)\n",
    "# br.set_handle_robots(False)\n",
    "\n",
    "# # Follows refresh 0 but not hangs on refresh > 0\n",
    "# br.set_handle_refresh(mechanize._http.HTTPRefreshProcessor(), max_time=1)\n",
    "\n",
    "# # Want debugging messages?\n",
    "# #br.set_debug_http(True)\n",
    "# #br.set_debug_redirects(True)\n",
    "# #br.set_debug_responses(True)\n",
    "\n",
    "# # User-Agent (this is cheating, ok?)\n",
    "# br.addheaders = [('User-agent', 'Mozilla/5.0 (X11; U; Linux i686; en-US; rv:1.9.0.1) Gecko/2008071615 Fedora/3.0.1-1.fc9 Firefox/3.0.1')]"
   ]
  },
  {
   "cell_type": "code",
   "execution_count": 22,
   "metadata": {},
   "outputs": [
    {
     "name": "stdout",
     "output_type": "stream",
     "text": [
      "<sign-form GET https://www.change.org/p/mayor-jacob-frey-justice-for-george-floyd application/x-www-form-urlencoded\n",
      "  <TextControl(firstName=)>\n",
      "  <TextControl(lastName=)>\n",
      "  <TextControl(email=)>\n",
      "  <IgnoreControl(<None>=<None>)>\n",
      "  <CheckboxControl(public=[*true])>\n",
      "  <SubmitButtonControl(<None>=) (readonly)>>\n"
     ]
    }
   ],
   "source": [
    "# r = br.open(url)\n",
    "# html = r.read()\n",
    "\n",
    "# # Show the source\n",
    "# # print(html)\n",
    "# # or\n",
    "# # print br.response().read()\n",
    "\n",
    "# # # Show the html title\n",
    "# # print br.title()\n",
    "\n",
    "# # # Show the response headers\n",
    "# # print r.info()\n",
    "# # # or\n",
    "# # print br.response().info()\n",
    "\n",
    "# # Show the available forms\n",
    "# for f in br.forms():\n",
    "#     print(f)\n",
    "\n",
    "# # # Select the first (index zero) form\n",
    "# # br.select_form(nr=0)\n",
    "\n",
    "# # # Let's search\n",
    "# # br.form['q']='weekend codes'\n",
    "# # br.submit()\n",
    "# # print br.response().read()\n"
   ]
  },
  {
   "cell_type": "code",
   "execution_count": 24,
   "metadata": {},
   "outputs": [
    {
     "ename": "TypeError",
     "evalue": "'NoneType' object does not support item assignment",
     "output_type": "error",
     "traceback": [
      "\u001b[1;31m---------------------------------------------------------------------------\u001b[0m",
      "\u001b[1;31mTypeError\u001b[0m                                 Traceback (most recent call last)",
      "\u001b[1;32m<ipython-input-24-4c9b22c7ab37>\u001b[0m in \u001b[0;36m<module>\u001b[1;34m\u001b[0m\n\u001b[0;32m      1\u001b[0m \u001b[1;31m# Let's search\u001b[0m\u001b[1;33m\u001b[0m\u001b[1;33m\u001b[0m\u001b[1;33m\u001b[0m\u001b[0m\n\u001b[1;32m----> 2\u001b[1;33m \u001b[0mbr\u001b[0m\u001b[1;33m.\u001b[0m\u001b[0mform\u001b[0m\u001b[1;33m[\u001b[0m\u001b[1;34m'firstName='\u001b[0m\u001b[1;33m]\u001b[0m\u001b[1;33m=\u001b[0m\u001b[1;34m'Nada'\u001b[0m\u001b[1;33m\u001b[0m\u001b[1;33m\u001b[0m\u001b[0m\n\u001b[0m\u001b[0;32m      3\u001b[0m \u001b[0mbr\u001b[0m\u001b[1;33m.\u001b[0m\u001b[0mform\u001b[0m\u001b[1;33m[\u001b[0m\u001b[1;34m'lastName='\u001b[0m\u001b[1;33m]\u001b[0m\u001b[1;33m=\u001b[0m\u001b[1;34m'Ibrahim'\u001b[0m\u001b[1;33m\u001b[0m\u001b[1;33m\u001b[0m\u001b[0m\n\u001b[0;32m      4\u001b[0m \u001b[0mbr\u001b[0m\u001b[1;33m.\u001b[0m\u001b[0mform\u001b[0m\u001b[1;33m[\u001b[0m\u001b[1;34m'email='\u001b[0m\u001b[1;33m]\u001b[0m\u001b[1;33m=\u001b[0m\u001b[1;34m'nadaibrahim96@gmail.com'\u001b[0m\u001b[1;33m\u001b[0m\u001b[1;33m\u001b[0m\u001b[0m\n\u001b[0;32m      5\u001b[0m \u001b[0mbr\u001b[0m\u001b[1;33m.\u001b[0m\u001b[0msubmit\u001b[0m\u001b[1;33m(\u001b[0m\u001b[1;33m)\u001b[0m\u001b[1;33m\u001b[0m\u001b[1;33m\u001b[0m\u001b[0m\n",
      "\u001b[1;31mTypeError\u001b[0m: 'NoneType' object does not support item assignment"
     ]
    }
   ],
   "source": [
    "# # Let's search\n",
    "# br.form['firstName=']='Nada'\n",
    "# br.form['lastName=']='Ibrahim'\n",
    "# br.form['email=']='nadaibrahim96@gmail.com'\n",
    "# br.submit()\n",
    "# print(br.response().read())"
   ]
  },
  {
   "cell_type": "code",
   "execution_count": 9,
   "metadata": {},
   "outputs": [],
   "source": []
  },
  {
   "cell_type": "code",
   "execution_count": null,
   "metadata": {},
   "outputs": [],
   "source": [
    "def petition(first, last, city, state, zipcode, email):\n",
    "    for url in url_list:\n",
    "        base_url = url\n",
    "        source = requests.get(base_url).text\n",
    "        soup = BeautifulSoup(source, 'lxml')\n",
    "        \n",
    "        \n",
    "    "
   ]
  }
 ],
 "metadata": {
  "kernelspec": {
   "display_name": "Python 3",
   "language": "python",
   "name": "python3"
  },
  "language_info": {
   "codemirror_mode": {
    "name": "ipython",
    "version": 3
   },
   "file_extension": ".py",
   "mimetype": "text/x-python",
   "name": "python",
   "nbconvert_exporter": "python",
   "pygments_lexer": "ipython3",
   "version": "3.7.4"
  }
 },
 "nbformat": 4,
 "nbformat_minor": 2
}
